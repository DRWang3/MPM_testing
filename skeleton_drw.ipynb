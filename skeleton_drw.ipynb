{
  "nbformat": 4,
  "nbformat_minor": 0,
  "metadata": {
    "colab": {
      "provenance": [],
      "authorship_tag": "ABX9TyOF9PpdgcC+dQvdQiMbKt43",
      "include_colab_link": true
    },
    "kernelspec": {
      "name": "python3",
      "display_name": "Python 3"
    },
    "language_info": {
      "name": "python"
    }
  },
  "cells": [
    {
      "cell_type": "markdown",
      "metadata": {
        "id": "view-in-github",
        "colab_type": "text"
      },
      "source": [
        "<a href=\"https://colab.research.google.com/github/DRWang3/MPM_testing/blob/main/skeleton_drw.ipynb\" target=\"_parent\"><img src=\"https://colab.research.google.com/assets/colab-badge.svg\" alt=\"Open In Colab\"/></a>"
      ]
    },
    {
      "cell_type": "code",
      "source": [
        "#@title Model Driver Class\n",
        "#from IPython.display import display, HTML\n",
        "#display(HTML('<h1 style=\"color: blue; background-color: lightyellow; padding: 10px; border-radius: 5px;\">Custom Header</h1>'))\n",
        "\n",
        "import numpy as np\n",
        "import pandas as pd\n",
        "\n",
        "class model_handler:\n",
        "    \"\"\"Model Handler class for taking in input files and running the simulation.\n",
        "\n",
        "    Attributes:\n",
        "        drivers_filename (str): Path to the drivers CSV file.\n",
        "        parameter_filename (str): Path to the parameters CSV file.\n",
        "    \"\"\"\n",
        "\n",
        "    def __init__(self, drivers_filename, parameter_filename):\n",
        "        self.drivers_filename = drivers_filename\n",
        "        self.parameter_filename = parameter_filename\n",
        "\n",
        "    def read_input_files(self):\n",
        "        # Read input CSV files for drivers and parameters\n",
        "        drivers = pd.read_csv(self.drivers_filename)\n",
        "        params = pd.read_csv(self.parameter_filename, header=None)\n",
        "        params_dict = params.set_index(0).to_dict()[1]\n",
        "        return drivers, params_dict\n",
        "\n",
        "    def run_simulation(self):\n",
        "        # Run simulation by looping through each timestep\n",
        "        drivers, params_dict = self.read_input_files()\n",
        "\n",
        "        for index, row in drivers.iterrows():\n",
        "            DOY = row['DOY']\n",
        "            latitude = row['latitude']\n",
        "\n",
        "            # atmosphere object for computing atmospheric properties at this timestep\n",
        "            atmosphere_instance = atmosphere(DOY, latitude)\n",
        "            atmosphere_instance.compute_atmospheric_properties()\n",
        "\n",
        "            # put together a collective exogenous inputs dict\n",
        "            exogenous_inputs = atmosphere_instance.get_atmospheric_properties()\n",
        "            driver_entries = {\n",
        "              'temperature': row['temperature'],\n",
        "              'radiation': row['radiation'],\n",
        "              'precipitation': row['precipitation'],\n",
        "              'wind_speed': row['wind_speed'],\n",
        "              'VPD': row['VPD'],\n",
        "              'latitude': row['latitude']\n",
        "            }\n",
        "\n",
        "            exogenous_inputs.update(driver_entries)\n",
        "\n",
        "            # environment object that acts as interface between plant and non-plant\n",
        "\n",
        "\n",
        "            #\n",
        "\n"
      ],
      "metadata": {
        "id": "lTMkEsAKfXnZ"
      },
      "execution_count": 74,
      "outputs": []
    },
    {
      "cell_type": "code",
      "execution_count": 75,
      "metadata": {
        "cellView": "form",
        "id": "Ye8RDafCfPva"
      },
      "outputs": [],
      "source": [
        "#@title Atmosphere Class\n",
        "class atmosphere:\n",
        "    \"\"\"This class calculates atmospheric properties for a model timestep\n",
        "    \"\"\"\n",
        "\n",
        "    def __init__(self, DOY, latitude):\n",
        "        self.rad = np.pi / 180\n",
        "        self.lat = latitude\n",
        "        self.doy = DOY\n",
        "\n",
        "    def compute_atmospheric_properties(self):\n",
        "        #computes atmospheric properties needed for simulating under field conditions\n",
        "\n",
        "        Sun_Angle_Inclination = -2\n",
        "        dec = np.arcsin(np.sin(23.45 * self.rad) * np.cos(2 * np.pi * (self.doy + 10) / 365))\n",
        "        Sin_Solar_Declination = np.sin(self.rad * self.lat) * np.sin(dec)\n",
        "        Cos_Solar_Declination = np.cos(self.rad * self.lat) * np.cos(dec)\n",
        "        angle_factor = Sin_Solar_Declination / Cos_Solar_Declination\n",
        "\n",
        "        Day_Length = 12.0 * (1 + 2 * np.arcsin(angle_factor) / np.pi)\n",
        "        Photoperiod_Day_Length = 12.0 * (1 + 2 * np.arcsin((-np.sin(Sun_Angle_Inclination * self.rad) + Sin_Solar_Declination) / Cos_Solar_Declination) / np.pi)\n",
        "        Daily_Sin_Beam_Exposure = 3600 * (Day_Length * (Sin_Solar_Declination + 0.4 * (Sin_Solar_Declination**2 + Cos_Solar_Declination**2 * 0.5)) +\n",
        "                             12.0 * Cos_Solar_Declination * (2.0 + 3.0 * 0.4 * Sin_Solar_Declination) * np.sqrt(1.0 - angle_factor**2) / np.pi)\n",
        "        Solar_Constant = 1367 * (1 + 0.033 * np.cos(2 * np.pi * (self.doy - 10) / 365))\n",
        "\n",
        "        self.atmospheric_properties_dict = {\n",
        "            'Solar_Constant': Solar_Constant,\n",
        "            'Sin_Solar_Declination': Sin_Solar_Declination,\n",
        "            'Cos_Solar_Declination': Cos_Solar_Declination,\n",
        "            'Day_Length': Day_Length,\n",
        "            'Photoperiod_Day_Length': Photoperiod_Day_Length,\n",
        "            'Daily_Sin_Beam_Exposure': Daily_Sin_Beam_Exposure\n",
        "        }\n",
        "\n",
        "    def get_atmospheric_properties(self):\n",
        "        # getter\n",
        "        return self.atmospheric_properties_dict\n"
      ]
    },
    {
      "cell_type": "code",
      "source": [
        "#@title Environment Class\n",
        "\n",
        "class Environment:\n",
        "    def __init__(self, num_states, num_actions):\n",
        "        self.num_states = num_states\n",
        "        self.num_actions = num_actions"
      ],
      "metadata": {
        "id": "BDhQkrRawnzs"
      },
      "execution_count": null,
      "outputs": []
    },
    {
      "cell_type": "code",
      "source": [
        "#@ Example Usage\n",
        "\n",
        "driver_file = 'https://raw.githubusercontent.com/DRWang3/MPM_testing/refs/heads/main/generated_hourly_weather_data.csv'\n",
        "parameter_file =  'https://raw.githubusercontent.com/DRWang3/MPM_testing/refs/heads/main/parameters.csv'\n",
        "\n",
        "model = model_handler(driver_file, parameter_file)\n",
        "model.run_simulation()"
      ],
      "metadata": {
        "id": "hYfnl-yifUfv"
      },
      "execution_count": 76,
      "outputs": []
    },
    {
      "cell_type": "code",
      "source": [],
      "metadata": {
        "id": "scbnpOQUoTkX"
      },
      "execution_count": null,
      "outputs": []
    }
  ]
}